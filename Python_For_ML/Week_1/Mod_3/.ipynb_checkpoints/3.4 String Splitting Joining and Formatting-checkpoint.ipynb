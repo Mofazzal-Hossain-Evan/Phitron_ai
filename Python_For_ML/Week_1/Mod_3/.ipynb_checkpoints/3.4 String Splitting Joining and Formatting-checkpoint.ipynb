{
 "cells": [
  {
   "cell_type": "code",
   "execution_count": 9,
   "id": "97e4abcf-e009-4150-b60d-096fb227bbb8",
   "metadata": {},
   "outputs": [
    {
     "name": "stdout",
     "output_type": "stream",
     "text": [
      "['what', ' is ', 'python?']\n",
      "what_ is _python?\n"
     ]
    }
   ],
   "source": [
    "prompt = \"what, is ,python?\"\n",
    "tokens = prompt.split(\",\")\n",
    "print(tokens)\n",
    "\n",
    "sentence = \"_\".join(tokens)\n",
    "print(sentence)"
   ]
  },
  {
   "cell_type": "code",
   "execution_count": null,
   "id": "ddf215aa-e530-4d99-af47-673fb99e1f4a",
   "metadata": {},
   "outputs": [],
   "source": []
  }
 ],
 "metadata": {
  "kernelspec": {
   "display_name": "Python [conda env:base] *",
   "language": "python",
   "name": "conda-base-py"
  },
  "language_info": {
   "codemirror_mode": {
    "name": "ipython",
    "version": 3
   },
   "file_extension": ".py",
   "mimetype": "text/x-python",
   "name": "python",
   "nbconvert_exporter": "python",
   "pygments_lexer": "ipython3",
   "version": "3.13.5"
  }
 },
 "nbformat": 4,
 "nbformat_minor": 5
}
